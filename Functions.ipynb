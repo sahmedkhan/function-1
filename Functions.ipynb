{
 "cells": [
  {
   "cell_type": "markdown",
   "id": "b25152e6",
   "metadata": {},
   "source": [
    "# Function\n",
    "\n",
    "* pre defined\n",
    "    * provided by commonly\n",
    "* user defined\n",
    "    * custome function created by you programmer\n",
    "* common propertied:\n",
    "    * retun\n",
    "    * non-return\n",
    "    * required parameters\n",
    "    * optional parameters\n",
    "    * default function\n",
    "    * positional argument\n",
    "    * key value parameters\n",
    "    * pass unltimated optional argument\n",
    "    * pass unltimated key value argument\n",
    "'''\n",
    "def custom_name(parameter1,parameter2...):\n",
    "    statement1\n",
    "    statement2\n",
    "    statemnet3\n",
    " \n",
    "function_name() # Calling\n",
    "'''\n",
    "\n",
    "Note:\n",
    "\n",
    "Function Declearaton = def custom_name(parameter1,parameter2...):\n",
    "Function body\n",
    "Function calling"
   ]
  },
  {
   "cell_type": "code",
   "execution_count": null,
   "id": "2f1f09d7",
   "metadata": {},
   "outputs": [],
   "source": [
    "Reserved keywords"
   ]
  },
  {
   "cell_type": "code",
   "execution_count": 1,
   "id": "44381756",
   "metadata": {},
   "outputs": [
    {
     "data": {
      "text/plain": [
       "[     Keyword                                        Description\n",
       " 0        and                                 A logical operator\n",
       " 1         as                                 To create an alias\n",
       " 2     assert                                      For debugging\n",
       " 3      break                             To break out of a loop\n",
       " 4      class                                  To define a class\n",
       " 5   continue        To continue to the next iteration of a loop\n",
       " 6        def                               To define a function\n",
       " 7        del                                To delete an object\n",
       " 8       elif    Used in conditional statements, same as else if\n",
       " 9       else                     Used in conditional statements\n",
       " 10    except  Used with exceptions, what to do when an excep...\n",
       " 11     False     Boolean value, result of comparison operations\n",
       " 12   finally  Used with exceptions, a block of code that wil...\n",
       " 13       for                               To create a for loop\n",
       " 14      from               To import specific parts of a module\n",
       " 15    global                       To declare a global variable\n",
       " 16        if                    To make a conditional statement\n",
       " 17    import                                 To import a module\n",
       " 18        in  To check if a value is present in a list, tupl...\n",
       " 19        is                 To test if two variables are equal\n",
       " 20    lambda                    To create an anonymous function\n",
       " 21      None                            Represents a null value\n",
       " 22  nonlocal                    To declare a non-local variable\n",
       " 23       not                                 A logical operator\n",
       " 24        or                                 A logical operator\n",
       " 25      pass  A null statement, a statement that will do not...\n",
       " 26     raise                              To raise an exception\n",
       " 27    return              To exit a function and return a value\n",
       " 28      True     Boolean value, result of comparison operations\n",
       " 29       try                   To make a try...except statement\n",
       " 30     while                             To create a while loop\n",
       " 31      with                Used to simplify exception handling\n",
       " 32     yield             To end a function, returns a generator]"
      ]
     },
     "execution_count": 1,
     "metadata": {},
     "output_type": "execute_result"
    }
   ],
   "source": [
    "import pandas as pd\n",
    "df = pd.read_html(\"https://www.w3schools.com/python/python_ref_keywords.asp\")\n",
    "df"
   ]
  },
  {
   "cell_type": "code",
   "execution_count": 1,
   "id": "5251c219",
   "metadata": {},
   "outputs": [],
   "source": [
    "def introduction(): # signature/function declearaton\n",
    "    print(\"NED UNIVERSITY\")\n",
    "    print(\"PGD Data Science Programe\")\n",
    "    print(\"Batch-5\")\n",
    "    print(\"Saturdau and Sunday clases\")\n",
    "    "
   ]
  },
  {
   "cell_type": "code",
   "execution_count": 2,
   "id": "6fe7beae",
   "metadata": {},
   "outputs": [
    {
     "name": "stdout",
     "output_type": "stream",
     "text": [
      "NED UNIVERSITY\n",
      "PGD Data Science Programe\n",
      "Batch-5\n",
      "Saturdau and Sunday clases\n"
     ]
    }
   ],
   "source": [
    "introduction()"
   ]
  },
  {
   "cell_type": "code",
   "execution_count": 3,
   "id": "04aca1e3",
   "metadata": {},
   "outputs": [
    {
     "name": "stdout",
     "output_type": "stream",
     "text": [
      "NED UNIVERSITY\n",
      "PGD Data Science Programe\n",
      "Batch-5\n",
      "Saturdau and Sunday clases\n"
     ]
    }
   ],
   "source": [
    "introduction()"
   ]
  },
  {
   "cell_type": "markdown",
   "id": "7d127e57",
   "metadata": {},
   "source": [
    "# Return Function"
   ]
  },
  {
   "cell_type": "code",
   "execution_count": 5,
   "id": "a8144ebd",
   "metadata": {},
   "outputs": [],
   "source": [
    "def introduction(): # signature/function declearaton\n",
    "    print(\"NED UNIVERSITY\")\n",
    "    print(\"PGD Data Science Programe\")\n",
    "    print(\"Batch-5\")\n",
    "    print(\"Saturdau and Sunday clases\")\n",
    "    \n",
    "    return \"Pakistan Zinda Bad\""
   ]
  },
  {
   "cell_type": "code",
   "execution_count": 8,
   "id": "f68ce3e7",
   "metadata": {},
   "outputs": [
    {
     "name": "stdout",
     "output_type": "stream",
     "text": [
      "NED UNIVERSITY\n",
      "PGD Data Science Programe\n",
      "Batch-5\n",
      "Saturdau and Sunday clases\n",
      "Pakistan Zinda Bad\n"
     ]
    }
   ],
   "source": [
    "abc = introduction()\n",
    "print(abc)"
   ]
  },
  {
   "cell_type": "code",
   "execution_count": 9,
   "id": "c0bc4090",
   "metadata": {},
   "outputs": [
    {
     "name": "stdout",
     "output_type": "stream",
     "text": [
      "Pakistan Zinda Bad\n"
     ]
    }
   ],
   "source": [
    "print(abc)"
   ]
  },
  {
   "cell_type": "code",
   "execution_count": 10,
   "id": "8b38791d",
   "metadata": {},
   "outputs": [],
   "source": [
    "def introduction(): # signature/function declearaton\n",
    "     \n",
    "    return \"Pakistan Zinda Bad\", 12345,\"Salaam Pakistan\"\n",
    "\n",
    "abc= introduction() # function calling"
   ]
  },
  {
   "cell_type": "code",
   "execution_count": 11,
   "id": "e7364912",
   "metadata": {},
   "outputs": [
    {
     "name": "stdout",
     "output_type": "stream",
     "text": [
      "('Pakistan Zinda Bad', 12345, 'Salaam Pakistan')\n"
     ]
    }
   ],
   "source": [
    "print(abc)"
   ]
  },
  {
   "cell_type": "markdown",
   "id": "3113a58d",
   "metadata": {},
   "source": [
    "# Required Parameters"
   ]
  },
  {
   "cell_type": "code",
   "execution_count": 15,
   "id": "1cbd448e",
   "metadata": {},
   "outputs": [
    {
     "name": "stdout",
     "output_type": "stream",
     "text": [
      "number1 3 and number2 5\n",
      "8\n",
      "number1 9 and number2 9\n",
      "18\n"
     ]
    }
   ],
   "source": [
    "def add_two_numbers(num1,num2):\n",
    "    print(f\"number1 {num1} and number2 {num2}\")\n",
    "    return num1 + num2\n",
    "\n",
    "print(add_two_numbers(3,5))\n",
    "print(add_two_numbers(9,9))"
   ]
  },
  {
   "cell_type": "markdown",
   "id": "08ba108e",
   "metadata": {},
   "source": [
    "# Key Word Arguments"
   ]
  },
  {
   "cell_type": "code",
   "execution_count": 17,
   "id": "fe563702",
   "metadata": {},
   "outputs": [
    {
     "name": "stdout",
     "output_type": "stream",
     "text": [
      "number1 5 and number2 3\n",
      "8\n",
      "number1 8 and number2 9\n",
      "17\n"
     ]
    }
   ],
   "source": [
    "def add_two_numbers(num1,num2):\n",
    "    print(f\"number1 {num1} and number2 {num2}\")\n",
    "    return num1 + num2\n",
    "\n",
    "print(add_two_numbers(num2=3,num1=5))\n",
    "print(add_two_numbers(num1=8,num2=9))"
   ]
  },
  {
   "cell_type": "code",
   "execution_count": 11,
   "id": "85c5055a",
   "metadata": {},
   "outputs": [
    {
     "name": "stdout",
     "output_type": "stream",
     "text": [
      "6\n"
     ]
    }
   ],
   "source": [
    "print(sum([1,2,3,0]))"
   ]
  },
  {
   "cell_type": "code",
   "execution_count": 17,
   "id": "a555d9a9",
   "metadata": {},
   "outputs": [
    {
     "name": "stdout",
     "output_type": "stream",
     "text": [
      "4\n"
     ]
    }
   ],
   "source": [
    "def abc(x,y,z=0):\n",
    "    return x+y+z\n",
    "\n",
    "print(abc(2,2))\n"
   ]
  },
  {
   "cell_type": "code",
   "execution_count": 20,
   "id": "377efbfe",
   "metadata": {},
   "outputs": [
    {
     "name": "stdout",
     "output_type": "stream",
     "text": [
      "4\n",
      "8\n",
      "13\n",
      "0\n"
     ]
    }
   ],
   "source": [
    "def abc(x=0,y=0,z=0):\n",
    "    return x+y+z\n",
    "\n",
    "print(abc(2,2))\n",
    "print(abc(1,3,4)) # positional\n",
    "print(abc(x=3, y=5, z=5))\n",
    "print(abc())"
   ]
  },
  {
   "cell_type": "code",
   "execution_count": 4,
   "id": "3b834070",
   "metadata": {},
   "outputs": [
    {
     "name": "stdout",
     "output_type": "stream",
     "text": [
      "a b c\n",
      "a b c\n"
     ]
    }
   ],
   "source": [
    "l = [\"a\",\"b\",\"c\"]\n",
    "     \n",
    "print(l[0],l[1],l[2])\n",
    "print(*l)"
   ]
  },
  {
   "cell_type": "code",
   "execution_count": 6,
   "id": "61f16791",
   "metadata": {},
   "outputs": [
    {
     "name": "stdout",
     "output_type": "stream",
     "text": [
      "a b c\n",
      "a b c\n"
     ]
    }
   ],
   "source": [
    "l = (\"a\",\"b\",\"c\")\n",
    "     \n",
    "print(l[0],l[1],l[2])\n",
    "print(*l)"
   ]
  },
  {
   "cell_type": "code",
   "execution_count": 7,
   "id": "297fd67a",
   "metadata": {},
   "outputs": [
    {
     "name": "stdout",
     "output_type": "stream",
     "text": [
      "a b c\n"
     ]
    }
   ],
   "source": [
    "l = [\"a\",\"b\",\"c\"]\n",
    "x,y,z = l[0],l[1],l[2]\n",
    "print(x,y,z)"
   ]
  },
  {
   "cell_type": "code",
   "execution_count": 12,
   "id": "d172e1a9",
   "metadata": {},
   "outputs": [
    {
     "name": "stdout",
     "output_type": "stream",
     "text": [
      "5 6 9\n",
      "20\n",
      "x y z\n",
      "20\n"
     ]
    }
   ],
   "source": [
    "def abc(x=0,y=0,z=0):\n",
    "    return x+y+z\n",
    "\n",
    "d = {\"x\":5,\n",
    "    \"y\":6,\n",
    "    \"z\":9}\n",
    "\n",
    "print(d['x'],d['y'],d['z'])\n",
    "print(abc(d['x'],d['y'],d['z']))\n",
    "print(*d)\n",
    "print(abc(**d))"
   ]
  },
  {
   "cell_type": "markdown",
   "id": "a02bf099",
   "metadata": {},
   "source": [
    "# unlimited argument function\n",
    "positional based"
   ]
  },
  {
   "cell_type": "code",
   "execution_count": 16,
   "id": "e455d15a",
   "metadata": {},
   "outputs": [
    {
     "name": "stdout",
     "output_type": "stream",
     "text": [
      "(2, 4, 6, 7, 8, 9, 1)\n",
      "1**2**3**4**5**6\n"
     ]
    }
   ],
   "source": [
    "def abc(*nums):\n",
    "    return nums\n",
    "\n",
    "print(abc(2,4,6,7,8,9,1))\n",
    "print(1,2,3,4,5,6, sep=\"**\")"
   ]
  },
  {
   "cell_type": "code",
   "execution_count": 18,
   "id": "9675364f",
   "metadata": {},
   "outputs": [
    {
     "name": "stdout",
     "output_type": "stream",
     "text": [
      "37\n"
     ]
    }
   ],
   "source": [
    "def my_sum(*nums):\n",
    "    \n",
    "    total = 0\n",
    "    \n",
    "    for n in nums:\n",
    "        total += n\n",
    "    \n",
    "    return total\n",
    "\n",
    "print(my_sum(2,4,6,7,8,9,1))\n"
   ]
  },
  {
   "cell_type": "code",
   "execution_count": 5,
   "id": "e1b2dffe",
   "metadata": {},
   "outputs": [
    {
     "data": {
      "text/plain": [
       "[('x', 30), ('y', 50), ('z', 14), ('end', 400), ('f', 330)]"
      ]
     },
     "execution_count": 5,
     "metadata": {},
     "output_type": "execute_result"
    }
   ],
   "source": [
    "def abc(**data, ):\n",
    "    return list(data.items()) \n",
    "\n",
    "abc(x=30,y=50, z=14, end=400, f=330)"
   ]
  },
  {
   "cell_type": "code",
   "execution_count": 2,
   "id": "2dbd06f7",
   "metadata": {},
   "outputs": [
    {
     "name": "stdout",
     "output_type": "stream",
     "text": [
      "enter name, father name, courseshafaat, ahmed, ai\n"
     ]
    },
    {
     "data": {
      "text/plain": [
       "['shafaat', ' ahmed', ' ai']"
      ]
     },
     "execution_count": 2,
     "metadata": {},
     "output_type": "execute_result"
    }
   ],
   "source": [
    "data = input(\"enter name, father name, course\").split(',')\n",
    "data"
   ]
  },
  {
   "cell_type": "code",
   "execution_count": 6,
   "id": "2a871afe",
   "metadata": {},
   "outputs": [
    {
     "name": "stdout",
     "output_type": "stream",
     "text": [
      "enter name, father name, courseshafaat, shafq, ffj\n"
     ]
    },
    {
     "data": {
      "text/plain": [
       "[('name', 'shafaat'), ('father name', ' shafq'), ('course', ' ffj')]"
      ]
     },
     "execution_count": 6,
     "metadata": {},
     "output_type": "execute_result"
    }
   ],
   "source": [
    "data = input(\"enter name, father name, course\").split(',')\n",
    "data1 = {\"name\":data[0],\n",
    "       \"father name\":data[1],\n",
    "       \"course\":data[2]}\n",
    "\n",
    "abc(**data1)"
   ]
  },
  {
   "cell_type": "markdown",
   "id": "232bf578",
   "metadata": {},
   "source": [
    "# Advance\n",
    "* require\n",
    "* positional unlimited argument\n",
    "* key-wards unlimited argument"
   ]
  },
  {
   "cell_type": "code",
   "execution_count": 10,
   "id": "e5ba171b",
   "metadata": {},
   "outputs": [
    {
     "name": "stdout",
     "output_type": "stream",
     "text": [
      "6 3\n",
      "d 1 3 5 6 7\n",
      "{'e': 54, 'c': 4}\n"
     ]
    }
   ],
   "source": [
    "def advance(x,y, *nums, **data):\n",
    "    print(x,y)\n",
    "    print(*nums)\n",
    "    print(data)\n",
    "\n",
    "advance(6,3, \"d\", 1,3,5,6,7, e=54, c=4)"
   ]
  },
  {
   "cell_type": "code",
   "execution_count": 11,
   "id": "a96dccfb",
   "metadata": {},
   "outputs": [
    {
     "name": "stdout",
     "output_type": "stream",
     "text": [
      "4 5\n",
      "2 3 4 4 3 5 6 7 2 1\n",
      "{}\n"
     ]
    }
   ],
   "source": [
    "l1 = [2,3,4,4,3]\n",
    "l2 = [5,6,7,2,1]\n",
    "\n",
    "advance(4,5, *l1,*l2)"
   ]
  },
  {
   "cell_type": "markdown",
   "id": "765b87c8",
   "metadata": {},
   "source": [
    "# Lambda Function\n",
    "*one line function\n",
    "*without name\n",
    "*it didn't use before or it will be not use in future\n",
    "\n",
    "syntaxt:\n",
    "'''\n",
    "def add_tow_numberw(x,y):\n",
    "    return(x+y)\n",
    "'''\n",
    "\n",
    "lambda\n",
    "'''\n",
    "lambda x,y : x+y:"
   ]
  },
  {
   "cell_type": "code",
   "execution_count": 1,
   "id": "05db9912",
   "metadata": {},
   "outputs": [
    {
     "data": {
      "text/plain": [
       "7"
      ]
     },
     "execution_count": 1,
     "metadata": {},
     "output_type": "execute_result"
    }
   ],
   "source": [
    "def add_tow_numberw(x,y):\n",
    "    return(x+y)\n",
    "\n",
    "\n",
    "add_tow_numberw(3,4)\n",
    "    "
   ]
  },
  {
   "cell_type": "code",
   "execution_count": 2,
   "id": "e41480b4",
   "metadata": {},
   "outputs": [
    {
     "name": "stdout",
     "output_type": "stream",
     "text": [
      "10\n"
     ]
    }
   ],
   "source": [
    "abc = lambda x,y : x+y\n",
    "\n",
    "print(abc(5,5))"
   ]
  },
  {
   "cell_type": "code",
   "execution_count": 4,
   "id": "ae9ca488",
   "metadata": {},
   "outputs": [
    {
     "name": "stdout",
     "output_type": "stream",
     "text": [
      "[[1, 'r', 'z'], [2, 't', 'v'], [3, 'p', 'x']]\n"
     ]
    }
   ],
   "source": [
    "data = [[1,'r','z'],\n",
    "        [3,'p','x'],\n",
    "        [2,'t','v']]\n",
    "        \n",
    "print(sorted(data))"
   ]
  },
  {
   "cell_type": "code",
   "execution_count": 9,
   "id": "85428556",
   "metadata": {},
   "outputs": [
    {
     "name": "stdout",
     "output_type": "stream",
     "text": [
      "[[2, 't', 'v'], [3, 'p', 'x'], [1, 'r', 'z']]\n"
     ]
    }
   ],
   "source": [
    "data = [[1,'r','z'],\n",
    "        [3,'p','x'],\n",
    "        [2,'t','v']]\n",
    "        \n",
    "print(sorted(data, key=lambda x:x[2]))"
   ]
  },
  {
   "cell_type": "markdown",
   "id": "29873d4a",
   "metadata": {},
   "source": [
    "# Generator function"
   ]
  },
  {
   "cell_type": "code",
   "execution_count": 14,
   "id": "bc329fbe",
   "metadata": {},
   "outputs": [
    {
     "name": "stdout",
     "output_type": "stream",
     "text": [
      "1\n",
      "2\n",
      "3\n"
     ]
    }
   ],
   "source": [
    "def my_range(start,end,step=1):\n",
    "    for i in range(start, end+1, step):\n",
    "        yield i\n",
    "\n",
    "\n",
    "a = my_range(1,11) \n",
    "print(next(a))\n",
    "print(next(a))\n",
    "print(next(a))"
   ]
  },
  {
   "cell_type": "markdown",
   "id": "139d421d",
   "metadata": {},
   "source": [
    "# Recursive function"
   ]
  },
  {
   "cell_type": "code",
   "execution_count": 15,
   "id": "e0b33277",
   "metadata": {},
   "outputs": [
    {
     "name": "stdout",
     "output_type": "stream",
     "text": [
      "120\n"
     ]
    }
   ],
   "source": [
    "def factorial(n):\n",
    "    if n == 0:\n",
    "        return 1\n",
    "    else:\n",
    "        return n * factorial(n - 1)\n",
    "result = factorial(5)\n",
    "print(result)  # Output: 120 (5! = 5 * 4 * 3 * 2 * 1 = 120)"
   ]
  },
  {
   "cell_type": "code",
   "execution_count": null,
   "id": "78da771c",
   "metadata": {},
   "outputs": [],
   "source": []
  }
 ],
 "metadata": {
  "kernelspec": {
   "display_name": "Python 3 (ipykernel)",
   "language": "python",
   "name": "python3"
  },
  "language_info": {
   "codemirror_mode": {
    "name": "ipython",
    "version": 3
   },
   "file_extension": ".py",
   "mimetype": "text/x-python",
   "name": "python",
   "nbconvert_exporter": "python",
   "pygments_lexer": "ipython3",
   "version": "3.11.3"
  }
 },
 "nbformat": 4,
 "nbformat_minor": 5
}
